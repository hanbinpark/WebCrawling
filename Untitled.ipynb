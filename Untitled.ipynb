{
 "cells": [
  {
   "cell_type": "code",
   "execution_count": 1,
   "id": "5de034e4",
   "metadata": {},
   "outputs": [],
   "source": [
    "# 페이지에 요청하기 위한 용도\n",
    "import requests as req\n",
    "# html 데이터를 만들기 위한 용도\n",
    "from bs4 import BeautifulSoup as bs"
   ]
  },
  {
   "cell_type": "code",
   "execution_count": 7,
   "id": "da8e8c2a",
   "metadata": {},
   "outputs": [
    {
     "name": "stdout",
     "output_type": "stream",
     "text": [
      "삼성전자\n",
      "LG에너지솔루션\n",
      "SK하이닉스\n",
      "삼성바이오로직스\n",
      "POSCO홀딩스\n",
      "삼성전자우\n",
      "삼성SDI\n",
      "현대차\n",
      "LG화학\n",
      "포스코퓨처엠\n",
      "NAVER\n",
      "기아\n",
      "현대모비스\n",
      "카카오\n",
      "KB금융\n",
      "셀트리온\n",
      "삼성물산\n",
      "신한지주\n",
      "LG전자\n",
      "SK이노베이션\n",
      "포스코인터내셔널\n",
      "삼성생명\n",
      "LG\n",
      "삼성화재\n",
      "KT&G\n",
      "카카오뱅크\n",
      "하나금융지주\n",
      "한국전력\n",
      "삼성전기\n",
      "메리츠금융지주\n",
      "삼성에스디에스\n",
      "두산에너빌리티\n",
      "HD현대중공업\n",
      "SK\n",
      "SK텔레콤\n",
      "하이브\n",
      "고려아연\n",
      "KT\n",
      "대한항공\n",
      "기업은행\n",
      "우리금융지주\n",
      "HMM\n",
      "S-Oil\n",
      "HD한국조선해양\n",
      "한화오션\n",
      "크래프톤\n",
      "아모레퍼시픽\n",
      "금양\n",
      "삼성중공업\n",
      "LG생활건강\n"
     ]
    }
   ],
   "source": [
    "url = 'https://finance.naver.com/sise/sise_market_sum.naver'\n",
    "res = req.get(url)\n",
    "soup = bs(res.text,'lxml')\n",
    "title = soup.select('#contentarea > div.box_type_l > table.type_2 > tbody > tr > td:nth-child(2) > a')\n",
    "for tit in title:\n",
    "    print(tit.text)"
   ]
  },
  {
   "cell_type": "code",
   "execution_count": 11,
   "id": "9ea6236a",
   "metadata": {},
   "outputs": [
    {
     "data": {
      "text/plain": [
       "[]"
      ]
     },
     "execution_count": 11,
     "metadata": {},
     "output_type": "execute_result"
    }
   ],
   "source": [
    "soup.select('#contentarea > div.box_type_l > table.Nnavi > tbody > tr > td.pgRR > a')"
   ]
  },
  {
   "cell_type": "code",
   "execution_count": null,
   "id": "14e2e9df",
   "metadata": {},
   "outputs": [],
   "source": []
  },
  {
   "cell_type": "code",
   "execution_count": null,
   "id": "a1e8b26b",
   "metadata": {},
   "outputs": [],
   "source": []
  },
  {
   "cell_type": "code",
   "execution_count": null,
   "id": "0aeb4085",
   "metadata": {},
   "outputs": [],
   "source": []
  },
  {
   "cell_type": "code",
   "execution_count": null,
   "id": "406a44a6",
   "metadata": {},
   "outputs": [],
   "source": []
  },
  {
   "cell_type": "code",
   "execution_count": null,
   "id": "a73a70dd",
   "metadata": {},
   "outputs": [],
   "source": []
  },
  {
   "cell_type": "code",
   "execution_count": null,
   "id": "e271379d",
   "metadata": {},
   "outputs": [],
   "source": []
  },
  {
   "cell_type": "code",
   "execution_count": null,
   "id": "9e340326",
   "metadata": {},
   "outputs": [],
   "source": []
  },
  {
   "cell_type": "code",
   "execution_count": null,
   "id": "456451ed",
   "metadata": {},
   "outputs": [],
   "source": []
  },
  {
   "cell_type": "code",
   "execution_count": null,
   "id": "686e33a3",
   "metadata": {},
   "outputs": [],
   "source": []
  },
  {
   "cell_type": "code",
   "execution_count": null,
   "id": "c657c722",
   "metadata": {},
   "outputs": [],
   "source": []
  },
  {
   "cell_type": "code",
   "execution_count": null,
   "id": "d99b7d1e",
   "metadata": {},
   "outputs": [],
   "source": []
  },
  {
   "cell_type": "code",
   "execution_count": null,
   "id": "448b0040",
   "metadata": {},
   "outputs": [],
   "source": []
  },
  {
   "cell_type": "code",
   "execution_count": null,
   "id": "c302e213",
   "metadata": {},
   "outputs": [],
   "source": []
  },
  {
   "cell_type": "code",
   "execution_count": null,
   "id": "5da96872",
   "metadata": {},
   "outputs": [],
   "source": []
  }
 ],
 "metadata": {
  "kernelspec": {
   "display_name": "Python 3 (ipykernel)",
   "language": "python",
   "name": "python3"
  },
  "language_info": {
   "codemirror_mode": {
    "name": "ipython",
    "version": 3
   },
   "file_extension": ".py",
   "mimetype": "text/x-python",
   "name": "python",
   "nbconvert_exporter": "python",
   "pygments_lexer": "ipython3",
   "version": "3.10.9"
  }
 },
 "nbformat": 4,
 "nbformat_minor": 5
}
