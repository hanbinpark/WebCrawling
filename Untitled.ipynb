{
 "cells": [
  {
   "cell_type": "code",
   "execution_count": 1,
   "id": "a1ac69ac",
   "metadata": {},
   "outputs": [],
   "source": [
    "from selenium import webdriver as wb\n",
    "from selenium.webdriver.common.by import By\n",
    "import time\n",
    "from selenium.webdriver.common.keys import Keys"
   ]
  },
  {
   "cell_type": "code",
   "execution_count": 12,
   "id": "097b7a27",
   "metadata": {},
   "outputs": [],
   "source": [
    "# 1. 크롬드라이버를 실행해서 네이버지도 사이트로 이동\n",
    "driver = wb.Chrome()\n",
    "driver.get('https://map.naver.com/p')"
   ]
  },
  {
   "cell_type": "code",
   "execution_count": 13,
   "id": "7caa0a9b",
   "metadata": {},
   "outputs": [],
   "source": [
    "# 2. 검색창에 검색어를 입력(동명동 회식)\n",
    "# 검색창의 구분자인 ID값이 실행할 때마다 변한다.\n",
    "# 이런 경우에는 다른 선택자를 활용해야한다.!\n",
    "search = driver.find_element(By.CSS_SELECTOR,'.input_search')\n",
    "search.send_keys('광주 동명동 회식')\n",
    "search.send_keys(Keys.ENTER)"
   ]
  },
  {
   "cell_type": "code",
   "execution_count": 19,
   "id": "147ae29f",
   "metadata": {
    "collapsed": true
   },
   "outputs": [
    {
     "data": {
      "text/plain": [
       "[<selenium.webdriver.remote.webelement.WebElement (session=\"070380dd670482743daca2e0e4bb9886\", element=\"C79BB4F2EAB333E65512BD1ECC2461C6_element_558\")>,\n",
       " <selenium.webdriver.remote.webelement.WebElement (session=\"070380dd670482743daca2e0e4bb9886\", element=\"C79BB4F2EAB333E65512BD1ECC2461C6_element_622\")>,\n",
       " <selenium.webdriver.remote.webelement.WebElement (session=\"070380dd670482743daca2e0e4bb9886\", element=\"C79BB4F2EAB333E65512BD1ECC2461C6_element_660\")>,\n",
       " <selenium.webdriver.remote.webelement.WebElement (session=\"070380dd670482743daca2e0e4bb9886\", element=\"C79BB4F2EAB333E65512BD1ECC2461C6_element_661\")>,\n",
       " <selenium.webdriver.remote.webelement.WebElement (session=\"070380dd670482743daca2e0e4bb9886\", element=\"C79BB4F2EAB333E65512BD1ECC2461C6_element_662\")>,\n",
       " <selenium.webdriver.remote.webelement.WebElement (session=\"070380dd670482743daca2e0e4bb9886\", element=\"C79BB4F2EAB333E65512BD1ECC2461C6_element_663\")>,\n",
       " <selenium.webdriver.remote.webelement.WebElement (session=\"070380dd670482743daca2e0e4bb9886\", element=\"C79BB4F2EAB333E65512BD1ECC2461C6_element_664\")>,\n",
       " <selenium.webdriver.remote.webelement.WebElement (session=\"070380dd670482743daca2e0e4bb9886\", element=\"C79BB4F2EAB333E65512BD1ECC2461C6_element_665\")>,\n",
       " <selenium.webdriver.remote.webelement.WebElement (session=\"070380dd670482743daca2e0e4bb9886\", element=\"C79BB4F2EAB333E65512BD1ECC2461C6_element_666\")>,\n",
       " <selenium.webdriver.remote.webelement.WebElement (session=\"070380dd670482743daca2e0e4bb9886\", element=\"C79BB4F2EAB333E65512BD1ECC2461C6_element_667\")>]"
      ]
     },
     "execution_count": 19,
     "metadata": {},
     "output_type": "execute_result"
    }
   ],
   "source": [
    "# 미미원을 클릭해서 세부정보를 조회\n",
    "# 화면상에 데이터가 출력은 되는데 조작이 안될 때는 iframe을 검사해라!\n",
    "# 1. req는 iframe src를 찾아가서 거기서 데이터 수집을 했다.\n",
    "# 2. selenium에서는 현재 컴퓨터가 바라보고 있는 html창을 변경\n",
    "title = driver.find_elements(By.CSS_SELECTOR,'.place_bluelink.YwYLL')\n",
    "title"
   ]
  },
  {
   "cell_type": "code",
   "execution_count": 18,
   "id": "41e660b5",
   "metadata": {},
   "outputs": [],
   "source": [
    "# 컴퓨터에게 바라보고 있는 창을 원하는 iframe으로 변경\n",
    "# frame을 변경할 때는 switch_to.frame('iframe의 id')\n",
    "driver.switch_to.frame('searchIframe')"
   ]
  },
  {
   "cell_type": "code",
   "execution_count": 21,
   "id": "b87facff",
   "metadata": {},
   "outputs": [],
   "source": [
    "title = driver.find_elements(By.CSS_SELECTOR,'.place_bluelink.YwYLL')\n",
    "title[1].click()"
   ]
  },
  {
   "cell_type": "code",
   "execution_count": 26,
   "id": "380396fb",
   "metadata": {},
   "outputs": [],
   "source": [
    "# 상세정보에서 가게이름정보 수집\n",
    "\n",
    "# 상세정보 iframe으로 화면을 이동\n",
    "# 주의점!\n",
    "# iframe에서 다른 iframe으로 바로 이동이 불가능\n",
    "# 원본 데이터로 이동 -> 다른 iframe으로 이동\n",
    "driver.switch_to.default_content()"
   ]
  },
  {
   "cell_type": "code",
   "execution_count": 27,
   "id": "5b9a2cc0",
   "metadata": {},
   "outputs": [],
   "source": [
    "# 상세정보 iframe으로 화면을 이동\n",
    "driver.switch_to.frame('entryIframe')"
   ]
  },
  {
   "cell_type": "code",
   "execution_count": 32,
   "id": "74de6801",
   "metadata": {},
   "outputs": [
    {
     "data": {
      "text/plain": [
       "'미미원'"
      ]
     },
     "execution_count": 32,
     "metadata": {},
     "output_type": "execute_result"
    }
   ],
   "source": [
    "# 상세정보에서 가게이름정보 수집\n",
    "name = driver.find_element(By.CSS_SELECTOR,'#_title > span.Fc1rA')\n",
    "name.text"
   ]
  },
  {
   "cell_type": "code",
   "execution_count": 44,
   "id": "0962f1d4",
   "metadata": {},
   "outputs": [
    {
     "data": {
      "text/plain": [
       "'황톳길'"
      ]
     },
     "execution_count": 44,
     "metadata": {},
     "output_type": "execute_result"
    }
   ],
   "source": [
    "# 황톳길(검색내용 2번째) 클릭 -> 가게이름 수집\n",
    "# 원본데이터 -> 검색 프레임 -> 2번째 가게 클릭 -> 원본데이터 -> 상세정보프레임 -> 데이터수집\n",
    "driver.switch_to.default_content()\n",
    "driver.switch_to.frame('searchIframe')\n",
    "title = driver.find_elements(By.CSS_SELECTOR,'.place_bluelink.YwYLL')\n",
    "title[1].click()\n",
    "time.sleep(3)\n",
    "driver.switch_to.default_content()\n",
    "driver.switch_to.frame('entryIframe')\n",
    "time.sleep(1)\n",
    "name = driver.find_element(By.CSS_SELECTOR,'#_title > span.Fc1rA')\n",
    "name.text"
   ]
  },
  {
   "cell_type": "code",
   "execution_count": null,
   "id": "62f21db9",
   "metadata": {},
   "outputs": [],
   "source": []
  },
  {
   "cell_type": "code",
   "execution_count": null,
   "id": "09da24d4",
   "metadata": {},
   "outputs": [],
   "source": []
  },
  {
   "cell_type": "code",
   "execution_count": 43,
   "id": "007d2946",
   "metadata": {},
   "outputs": [
    {
     "name": "stdout",
     "output_type": "stream",
     "text": [
      "미미원\n",
      "황톳길\n",
      "RONNIQUE\n",
      "달곰식당\n",
      "알랭\n",
      "동명사랑채\n",
      "가원\n",
      "시스살롱\n",
      "동명로15\n",
      "칠복계\n"
     ]
    }
   ],
   "source": [
    "from selenium import webdriver as wb\n",
    "from selenium.webdriver.common.by import By\n",
    "import time\n",
    "from selenium.webdriver.common.keys import Keys\n",
    "\n",
    "driver = wb.Chrome()\n",
    "driver.get('https://map.naver.com/p')\n",
    "\n",
    "search = driver.find_element(By.CSS_SELECTOR,'.input_search')\n",
    "search.send_keys('광주 동명동 회식')\n",
    "search.send_keys(Keys.ENTER)\n",
    "time.sleep(3)\n",
    "\n",
    "driver.switch_to.frame('searchIframe')\n",
    "time.sleep(1)\n",
    "\n",
    "title = driver.find_elements(By.CSS_SELECTOR,'.place_bluelink.YwYLL')\n",
    "\n",
    "for i in title:\n",
    "    i.click()\n",
    "    time.sleep(3)\n",
    "    \n",
    "    driver.switch_to.default_content()\n",
    "    driver.switch_to.frame('entryIframe')\n",
    "    time.sleep(1)\n",
    "    \n",
    "    name = driver.find_element(By.CSS_SELECTOR,'#_title > span.Fc1rA')\n",
    "    print(name.text)\n",
    "    \n",
    "    driver.switch_to.default_content()\n",
    "    driver.switch_to.frame('searchIframe')\n",
    "    "
   ]
  },
  {
   "cell_type": "code",
   "execution_count": null,
   "id": "e194a168",
   "metadata": {},
   "outputs": [],
   "source": []
  },
  {
   "cell_type": "code",
   "execution_count": null,
   "id": "dd4e395b",
   "metadata": {},
   "outputs": [],
   "source": []
  },
  {
   "cell_type": "code",
   "execution_count": null,
   "id": "8906ceb1",
   "metadata": {},
   "outputs": [],
   "source": []
  },
  {
   "cell_type": "code",
   "execution_count": null,
   "id": "267f9326",
   "metadata": {},
   "outputs": [],
   "source": []
  },
  {
   "cell_type": "code",
   "execution_count": null,
   "id": "50d5dedd",
   "metadata": {},
   "outputs": [],
   "source": []
  },
  {
   "cell_type": "code",
   "execution_count": null,
   "id": "f1697ef6",
   "metadata": {},
   "outputs": [],
   "source": []
  },
  {
   "cell_type": "code",
   "execution_count": null,
   "id": "b9015cbe",
   "metadata": {},
   "outputs": [],
   "source": []
  },
  {
   "cell_type": "code",
   "execution_count": null,
   "id": "30fcd200",
   "metadata": {},
   "outputs": [],
   "source": []
  },
  {
   "cell_type": "code",
   "execution_count": null,
   "id": "e373d534",
   "metadata": {},
   "outputs": [],
   "source": []
  }
 ],
 "metadata": {
  "kernelspec": {
   "display_name": "Python 3 (ipykernel)",
   "language": "python",
   "name": "python3"
  },
  "language_info": {
   "codemirror_mode": {
    "name": "ipython",
    "version": 3
   },
   "file_extension": ".py",
   "mimetype": "text/x-python",
   "name": "python",
   "nbconvert_exporter": "python",
   "pygments_lexer": "ipython3",
   "version": "3.10.9"
  }
 },
 "nbformat": 4,
 "nbformat_minor": 5
}
