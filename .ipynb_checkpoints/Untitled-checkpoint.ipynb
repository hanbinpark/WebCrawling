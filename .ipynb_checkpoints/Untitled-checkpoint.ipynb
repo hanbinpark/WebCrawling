{
 "cells": [
  {
   "cell_type": "code",
   "execution_count": 1,
   "id": "fa8b2d77",
   "metadata": {},
   "outputs": [],
   "source": [
    "from selenium import webdriver as wb\n",
    "from selenium.webdriver.common.by import By\n",
    "import time\n",
    "from selenium.webdriver.common.keys import Keys"
   ]
  },
  {
   "cell_type": "code",
   "execution_count": 12,
   "id": "9cf408be",
   "metadata": {},
   "outputs": [],
   "source": [
    "# 1. 크롬드라이버를 실행해서 네이버지도 사이트로 이동\n",
    "driver = wb.Chrome()\n",
    "driver.get('https://map.naver.com/p')"
   ]
  },
  {
   "cell_type": "code",
   "execution_count": 13,
   "id": "efbf618f",
   "metadata": {},
   "outputs": [],
   "source": [
    "# 2. 검색창에 검색어를 입력(동명동 회식)\n",
    "# 검색창의 구분자인 ID값이 실행할 때마다 변한다.\n",
    "# 이런 경우에는 다른 선택자를 활용해야한다.!\n",
    "search = driver.find_element(By.CSS_SELECTOR,'.input_search')\n",
    "search.send_keys('광주 동명동 회식')\n",
    "search.send_keys(Keys.ENTER)"
   ]
  },
  {
   "cell_type": "code",
   "execution_count": 19,
   "id": "988038b5",
   "metadata": {
    "collapsed": true
   },
   "outputs": [
    {
     "data": {
      "text/plain": [
       "[<selenium.webdriver.remote.webelement.WebElement (session=\"070380dd670482743daca2e0e4bb9886\", element=\"C79BB4F2EAB333E65512BD1ECC2461C6_element_558\")>,\n",
       " <selenium.webdriver.remote.webelement.WebElement (session=\"070380dd670482743daca2e0e4bb9886\", element=\"C79BB4F2EAB333E65512BD1ECC2461C6_element_622\")>,\n",
       " <selenium.webdriver.remote.webelement.WebElement (session=\"070380dd670482743daca2e0e4bb9886\", element=\"C79BB4F2EAB333E65512BD1ECC2461C6_element_660\")>,\n",
       " <selenium.webdriver.remote.webelement.WebElement (session=\"070380dd670482743daca2e0e4bb9886\", element=\"C79BB4F2EAB333E65512BD1ECC2461C6_element_661\")>,\n",
       " <selenium.webdriver.remote.webelement.WebElement (session=\"070380dd670482743daca2e0e4bb9886\", element=\"C79BB4F2EAB333E65512BD1ECC2461C6_element_662\")>,\n",
       " <selenium.webdriver.remote.webelement.WebElement (session=\"070380dd670482743daca2e0e4bb9886\", element=\"C79BB4F2EAB333E65512BD1ECC2461C6_element_663\")>,\n",
       " <selenium.webdriver.remote.webelement.WebElement (session=\"070380dd670482743daca2e0e4bb9886\", element=\"C79BB4F2EAB333E65512BD1ECC2461C6_element_664\")>,\n",
       " <selenium.webdriver.remote.webelement.WebElement (session=\"070380dd670482743daca2e0e4bb9886\", element=\"C79BB4F2EAB333E65512BD1ECC2461C6_element_665\")>,\n",
       " <selenium.webdriver.remote.webelement.WebElement (session=\"070380dd670482743daca2e0e4bb9886\", element=\"C79BB4F2EAB333E65512BD1ECC2461C6_element_666\")>,\n",
       " <selenium.webdriver.remote.webelement.WebElement (session=\"070380dd670482743daca2e0e4bb9886\", element=\"C79BB4F2EAB333E65512BD1ECC2461C6_element_667\")>]"
      ]
     },
     "execution_count": 19,
     "metadata": {},
     "output_type": "execute_result"
    }
   ],
   "source": [
    "# 미미원을 클릭해서 세부정보를 조회\n",
    "# 화면상에 데이터가 출력은 되는데 조작이 안될 때는 iframe을 검사해라!\n",
    "# 1. req는 iframe src를 찾아가서 거기서 데이터 수집을 했다.\n",
    "# 2. selenium에서는 현재 컴퓨터가 바라보고 있는 html창을 변경\n",
    "title = driver.find_elements(By.CSS_SELECTOR,'.place_bluelink.YwYLL')\n",
    "title"
   ]
  },
  {
   "cell_type": "code",
   "execution_count": 18,
   "id": "81979cec",
   "metadata": {},
   "outputs": [],
   "source": [
    "# 컴퓨터에게 바라보고 있는 창을 원하는 iframe으로 변경\n",
    "# frame을 변경할 때는 switch_to.frame('iframe의 id')\n",
    "driver.switch_to.frame('searchIframe')"
   ]
  },
  {
   "cell_type": "code",
   "execution_count": 21,
   "id": "ea613a76",
   "metadata": {},
   "outputs": [],
   "source": [
    "title = driver.find_elements(By.CSS_SELECTOR,'.place_bluelink.YwYLL')\n",
    "title[1].click()"
   ]
  },
  {
   "cell_type": "code",
   "execution_count": 26,
   "id": "0d62f64c",
   "metadata": {},
   "outputs": [],
   "source": [
    "# 상세정보에서 가게이름정보 수집\n",
    "driver.switch_to.default_content()"
   ]
  },
  {
   "cell_type": "code",
   "execution_count": 27,
   "id": "5631d599",
   "metadata": {},
   "outputs": [],
   "source": [
    "driver.switch_to.frame('entryIframe')"
   ]
  },
  {
   "cell_type": "code",
   "execution_count": 31,
   "id": "e84ce686",
   "metadata": {},
   "outputs": [
    {
     "data": {
      "text/plain": [
       "'미미원'"
      ]
     },
     "execution_count": 31,
     "metadata": {},
     "output_type": "execute_result"
    }
   ],
   "source": [
    "title2 = driver.find_element(By.CSS_SELECTOR,'#_title > span.Fc1rA')\n",
    "title2.text"
   ]
  },
  {
   "cell_type": "code",
   "execution_count": null,
   "id": "3485a114",
   "metadata": {},
   "outputs": [],
   "source": []
  },
  {
   "cell_type": "code",
   "execution_count": null,
   "id": "91726bb5",
   "metadata": {},
   "outputs": [],
   "source": []
  },
  {
   "cell_type": "code",
   "execution_count": null,
   "id": "fb25077b",
   "metadata": {},
   "outputs": [],
   "source": []
  },
  {
   "cell_type": "code",
   "execution_count": null,
   "id": "e5676c2d",
   "metadata": {},
   "outputs": [],
   "source": []
  },
  {
   "cell_type": "code",
   "execution_count": null,
   "id": "243c5d28",
   "metadata": {},
   "outputs": [],
   "source": []
  },
  {
   "cell_type": "code",
   "execution_count": null,
   "id": "de8ccfe2",
   "metadata": {},
   "outputs": [],
   "source": []
  },
  {
   "cell_type": "code",
   "execution_count": null,
   "id": "76a09b34",
   "metadata": {},
   "outputs": [],
   "source": []
  },
  {
   "cell_type": "code",
   "execution_count": null,
   "id": "8cff519f",
   "metadata": {},
   "outputs": [],
   "source": []
  },
  {
   "cell_type": "code",
   "execution_count": null,
   "id": "61a08ee8",
   "metadata": {},
   "outputs": [],
   "source": []
  },
  {
   "cell_type": "code",
   "execution_count": null,
   "id": "16a2cf95",
   "metadata": {},
   "outputs": [],
   "source": []
  },
  {
   "cell_type": "code",
   "execution_count": null,
   "id": "a5970239",
   "metadata": {},
   "outputs": [],
   "source": []
  },
  {
   "cell_type": "code",
   "execution_count": null,
   "id": "1f80afc2",
   "metadata": {},
   "outputs": [],
   "source": []
  },
  {
   "cell_type": "code",
   "execution_count": null,
   "id": "36ec4f45",
   "metadata": {},
   "outputs": [],
   "source": []
  },
  {
   "cell_type": "code",
   "execution_count": null,
   "id": "69acf62e",
   "metadata": {},
   "outputs": [],
   "source": []
  }
 ],
 "metadata": {
  "kernelspec": {
   "display_name": "Python 3 (ipykernel)",
   "language": "python",
   "name": "python3"
  },
  "language_info": {
   "codemirror_mode": {
    "name": "ipython",
    "version": 3
   },
   "file_extension": ".py",
   "mimetype": "text/x-python",
   "name": "python",
   "nbconvert_exporter": "python",
   "pygments_lexer": "ipython3",
   "version": "3.10.9"
  }
 },
 "nbformat": 4,
 "nbformat_minor": 5
}
