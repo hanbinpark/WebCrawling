{
 "cells": [
  {
   "cell_type": "code",
   "execution_count": null,
   "id": "e4ddc9fc",
   "metadata": {},
   "outputs": [],
   "source": [
    "import requests as req\n",
    "from bs4 import bea"
   ]
  },
  {
   "cell_type": "code",
   "execution_count": null,
   "id": "b623e262",
   "metadata": {},
   "outputs": [],
   "source": [
    "# 1. req를 통해서 멜론차트 정보를 요청"
   ]
  },
  {
   "cell_type": "code",
   "execution_count": null,
   "id": "36494ea0",
   "metadata": {},
   "outputs": [],
   "source": [
    "# 2. bs을 통해서 html데이터로 변형"
   ]
  },
  {
   "cell_type": "code",
   "execution_count": null,
   "id": "1f94fac6",
   "metadata": {},
   "outputs": [],
   "source": [
    "# 3. 노래제목 수집"
   ]
  },
  {
   "cell_type": "code",
   "execution_count": null,
   "id": "7b373af1",
   "metadata": {},
   "outputs": [],
   "source": [
    "# 4. 가수이름 수집"
   ]
  },
  {
   "cell_type": "code",
   "execution_count": null,
   "id": "a1a80a03",
   "metadata": {},
   "outputs": [],
   "source": [
    "# 5. 수집된 데이터를 텍스트 정보만 추출해서 저장"
   ]
  },
  {
   "cell_type": "code",
   "execution_count": null,
   "id": "fadaacd5",
   "metadata": {},
   "outputs": [],
   "source": [
    "# 6. 표를 제작"
   ]
  },
  {
   "cell_type": "code",
   "execution_count": null,
   "id": "6fe8b88b",
   "metadata": {},
   "outputs": [],
   "source": [
    "# 7. 파일로 제작"
   ]
  }
 ],
 "metadata": {
  "kernelspec": {
   "display_name": "Python 3 (ipykernel)",
   "language": "python",
   "name": "python3"
  },
  "language_info": {
   "codemirror_mode": {
    "name": "ipython",
    "version": 3
   },
   "file_extension": ".py",
   "mimetype": "text/x-python",
   "name": "python",
   "nbconvert_exporter": "python",
   "pygments_lexer": "ipython3",
   "version": "3.10.9"
  }
 },
 "nbformat": 4,
 "nbformat_minor": 5
}
