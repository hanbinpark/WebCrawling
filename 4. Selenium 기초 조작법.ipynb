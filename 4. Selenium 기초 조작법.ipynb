{
 "cells": [
  {
   "cell_type": "markdown",
   "id": "5930e118",
   "metadata": {},
   "source": [
    "# Selenium 라이브러리\n",
    "- 브라우저를 자동제어하여 크롤링을 자동화시키는 라이브러리\n",
    "- 동적크롤링을 진행할 때 사용\n",
    "- 반드시 한번 설치가 필요"
   ]
  },
  {
   "cell_type": "code",
   "execution_count": 1,
   "id": "01d62e7d",
   "metadata": {
    "scrolled": false
   },
   "outputs": [
    {
     "name": "stdout",
     "output_type": "stream",
     "text": [
      "Requirement already satisfied: selenium in c:\\users\\gjaischooll\\anaconda3\\lib\\site-packages (3.141.0)\n",
      "Requirement already satisfied: urllib3 in c:\\users\\gjaischooll\\anaconda3\\lib\\site-packages (from selenium) (1.26.14)\n"
     ]
    }
   ],
   "source": [
    "# 라이브러리 설치\n",
    "# ! ; 강제설치\n",
    "# pip : python 패키지\n",
    "!pip install selenium"
   ]
  },
  {
   "cell_type": "code",
   "execution_count": 2,
   "id": "dd00b6e0",
   "metadata": {
    "scrolled": true
   },
   "outputs": [
    {
     "name": "stdout",
     "output_type": "stream",
     "text": [
      "Requirement already satisfied: selenium in c:\\users\\gjaischooll\\anaconda3\\lib\\site-packages (3.141.0)\n",
      "Collecting selenium\n",
      "  Downloading selenium-4.11.2-py3-none-any.whl (7.2 MB)\n",
      "     ---------------------------------------- 7.2/7.2 MB 11.2 MB/s eta 0:00:00\n",
      "Collecting trio-websocket~=0.9\n",
      "  Downloading trio_websocket-0.10.3-py3-none-any.whl (17 kB)\n",
      "Requirement already satisfied: urllib3[socks]<3,>=1.26 in c:\\users\\gjaischooll\\anaconda3\\lib\\site-packages (from selenium) (1.26.14)\n",
      "Requirement already satisfied: certifi>=2021.10.8 in c:\\users\\gjaischooll\\anaconda3\\lib\\site-packages (from selenium) (2023.7.22)\n",
      "Collecting trio~=0.17\n",
      "  Downloading trio-0.22.2-py3-none-any.whl (400 kB)\n",
      "     ------------------------------------- 400.2/400.2 kB 12.6 MB/s eta 0:00:00\n",
      "Collecting outcome\n",
      "  Downloading outcome-1.2.0-py2.py3-none-any.whl (9.7 kB)\n",
      "Requirement already satisfied: idna in c:\\users\\gjaischooll\\anaconda3\\lib\\site-packages (from trio~=0.17->selenium) (3.4)\n",
      "Requirement already satisfied: sortedcontainers in c:\\users\\gjaischooll\\anaconda3\\lib\\site-packages (from trio~=0.17->selenium) (2.4.0)\n",
      "Requirement already satisfied: sniffio in c:\\users\\gjaischooll\\anaconda3\\lib\\site-packages (from trio~=0.17->selenium) (1.2.0)\n",
      "Requirement already satisfied: cffi>=1.14 in c:\\users\\gjaischooll\\anaconda3\\lib\\site-packages (from trio~=0.17->selenium) (1.15.1)\n",
      "Requirement already satisfied: attrs>=20.1.0 in c:\\users\\gjaischooll\\anaconda3\\lib\\site-packages (from trio~=0.17->selenium) (22.1.0)\n",
      "Collecting exceptiongroup>=1.0.0rc9\n",
      "  Downloading exceptiongroup-1.1.3-py3-none-any.whl (14 kB)\n",
      "Collecting wsproto>=0.14\n",
      "  Downloading wsproto-1.2.0-py3-none-any.whl (24 kB)\n",
      "Requirement already satisfied: PySocks!=1.5.7,<2.0,>=1.5.6 in c:\\users\\gjaischooll\\anaconda3\\lib\\site-packages (from urllib3[socks]<3,>=1.26->selenium) (1.7.1)\n",
      "Requirement already satisfied: pycparser in c:\\users\\gjaischooll\\anaconda3\\lib\\site-packages (from cffi>=1.14->trio~=0.17->selenium) (2.21)\n",
      "Collecting h11<1,>=0.9.0\n",
      "  Downloading h11-0.14.0-py3-none-any.whl (58 kB)\n",
      "     ---------------------------------------- 58.3/58.3 kB 3.2 MB/s eta 0:00:00\n",
      "Installing collected packages: outcome, h11, exceptiongroup, wsproto, trio, trio-websocket, selenium\n",
      "  Attempting uninstall: selenium\n",
      "    Found existing installation: selenium 3.141.0\n",
      "    Uninstalling selenium-3.141.0:\n",
      "      Successfully uninstalled selenium-3.141.0\n",
      "Successfully installed exceptiongroup-1.1.3 h11-0.14.0 outcome-1.2.0 selenium-4.11.2 trio-0.22.2 trio-websocket-0.10.3 wsproto-1.2.0\n"
     ]
    }
   ],
   "source": [
    "# 셀레니움 최신버전 업데이트\n",
    "!pip install -U selenium"
   ]
  },
  {
   "cell_type": "code",
   "execution_count": 3,
   "id": "7996bf4e",
   "metadata": {},
   "outputs": [],
   "source": [
    "# 브라우저의 역할을 해주는 라이브러리 \n",
    "from selenium import webdriver as wb\n",
    "# 컴퓨터용 키보드  - 필요할 때만 import\n",
    "from selenium.webdriver.common.keys import Keys\n",
    "# 선택자의 구분자 역할을 해주는 라이브러리\n",
    "from selenium.webdriver.common.by import By"
   ]
  },
  {
   "cell_type": "code",
   "execution_count": 5,
   "id": "d141247f",
   "metadata": {},
   "outputs": [],
   "source": [
    "# 1. 크롬창 실행\n",
    "driver = wb.Chrome()"
   ]
  },
  {
   "cell_type": "code",
   "execution_count": 6,
   "id": "ff1ee264",
   "metadata": {},
   "outputs": [],
   "source": [
    "# 2. 특정 페이지로 이동(요청)\n",
    "driver.get('http://www.naver.com')"
   ]
  },
  {
   "cell_type": "code",
   "execution_count": 8,
   "id": "f8394dda",
   "metadata": {},
   "outputs": [],
   "source": [
    "# 3. 검색창에 검색어를 입력\n",
    "# 3-1. 검색창의 위치를 알아온다\n",
    "# soup.select('#query')\n",
    "search = driver.find_element(By.ID,'query')"
   ]
  },
  {
   "cell_type": "code",
   "execution_count": 9,
   "id": "6e660391",
   "metadata": {},
   "outputs": [],
   "source": [
    "search.send_keys('이강인')"
   ]
  },
  {
   "cell_type": "code",
   "execution_count": 10,
   "id": "83d969d1",
   "metadata": {},
   "outputs": [],
   "source": [
    "# 키보드의 값을 보낼 때는 Keys라이브러리 사용\n",
    "# 주의점: 대문자로 작성해야 한다.(ENTER,)\n",
    "search.send_keys(Keys.ENTER)"
   ]
  },
  {
   "cell_type": "code",
   "execution_count": 11,
   "id": "3b312204",
   "metadata": {},
   "outputs": [],
   "source": [
    "# 4. 스크롤을 화면 최하단으로 이동\n",
    "# Why? 화면 밑에 있는 데이터도 로딩\n",
    "# 화면에 키보드에 있는 END키를 보내주기\n",
    "body = driver.find_element(By.TAG_NAME,\"body\")\n",
    "body.send_keys(Keys.END)"
   ]
  },
  {
   "cell_type": "code",
   "execution_count": 12,
   "id": "81a515d8",
   "metadata": {},
   "outputs": [],
   "source": [
    "# 5. 페이지 뒤로가기\n",
    "# 뒤로가기 버튼은 html태그가 아니다.\n",
    "# 브라우저가 가지고 있는 것, back() 함수호출\n",
    "driver.back()"
   ]
  },
  {
   "cell_type": "code",
   "execution_count": 14,
   "id": "d29bf0bc",
   "metadata": {},
   "outputs": [],
   "source": [
    "# 다시한번 검색창에 새로운 검색어를 입력\n",
    "# 화면이 변하면 -> 화면이 이동했다면 \n",
    "# 컴퓨터는 과거 화면을 다 잊어버린다.\n",
    "# 반드시 요소를 새로 검색 후 명령을 부여해야 한다.\n",
    "search = driver.find_element(By.ID,'query')\n",
    "search.send_keys('김민재')"
   ]
  },
  {
   "cell_type": "code",
   "execution_count": 15,
   "id": "e250cb1b",
   "metadata": {},
   "outputs": [],
   "source": [
    "# 7. 검색 -> 검색버튼을 클릭\n",
    "btn = driver.find_element(By.CLASS_NAME,'btn_search')\n",
    "btn.click()"
   ]
  },
  {
   "cell_type": "code",
   "execution_count": 16,
   "id": "5d6f4132",
   "metadata": {},
   "outputs": [],
   "source": [
    "# 8. 창 닫기\n",
    "driver.quit()"
   ]
  },
  {
   "cell_type": "markdown",
   "id": "a9cec08b",
   "metadata": {},
   "source": [
    "## 참고할 점!\n",
    "- 수업 때 한 방식은 최신버전의 코드\n",
    " 1. 크롬드라이버 = 컴퓨터용 크롬\n",
    "    - 1.1 wb.Chrome(\"크롬드라이버의 경로\")\n",
    " 2. find_element(By.ID) -> find_element_by_id()"
   ]
  },
  {
   "cell_type": "code",
   "execution_count": null,
   "id": "218240cd",
   "metadata": {},
   "outputs": [],
   "source": []
  },
  {
   "cell_type": "code",
   "execution_count": null,
   "id": "c4f0689a",
   "metadata": {},
   "outputs": [],
   "source": []
  },
  {
   "cell_type": "code",
   "execution_count": null,
   "id": "ea86831d",
   "metadata": {},
   "outputs": [],
   "source": []
  }
 ],
 "metadata": {
  "kernelspec": {
   "display_name": "Python 3 (ipykernel)",
   "language": "python",
   "name": "python3"
  },
  "language_info": {
   "codemirror_mode": {
    "name": "ipython",
    "version": 3
   },
   "file_extension": ".py",
   "mimetype": "text/x-python",
   "name": "python",
   "nbconvert_exporter": "python",
   "pygments_lexer": "ipython3",
   "version": "3.10.9"
  }
 },
 "nbformat": 4,
 "nbformat_minor": 5
}
