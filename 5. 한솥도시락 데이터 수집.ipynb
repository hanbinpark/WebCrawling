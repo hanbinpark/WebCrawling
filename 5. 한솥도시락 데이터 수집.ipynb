{
 "cells": [
  {
   "cell_type": "code",
   "execution_count": 1,
   "id": "5d810c9d",
   "metadata": {},
   "outputs": [],
   "source": [
    "from selenium import webdriver as wb\n",
    "from selenium.webdriver.common.by import By\n",
    "from selenium.webdriver.common.keys import Keys"
   ]
  },
  {
   "cell_type": "code",
   "execution_count": 25,
   "id": "c3371324",
   "metadata": {},
   "outputs": [],
   "source": [
    "# 1. 브라우저를 실행하고 -> 한솥사이트로 이동\n",
    "driver = wb.Chrome()\n",
    "driver.get('https://www.hsd.co.kr/menu/menu_list')"
   ]
  },
  {
   "cell_type": "code",
   "execution_count": 20,
   "id": "df54f6b3",
   "metadata": {
    "collapsed": true
   },
   "outputs": [
    {
     "name": "stdout",
     "output_type": "stream",
     "text": [
      "오리 영양도시락\n",
      "통살 오징어튀김\n",
      "열무 감초고추장 비빔밥\n",
      "열무 두부강된장 비빔밥\n",
      "[8월할인메뉴] 토네이도 소세지\n",
      "[8월할인메뉴] 토핑-계란후라이\n",
      "[8월할인메뉴] 치킨2조각\n",
      "[8월할인메뉴] 토핑-스팸\n",
      "[8월할인메뉴] 빅치킨마요\n",
      "[8월할인메뉴] 치킨마요\n",
      "[8월할인메뉴] 카츠카츠 도시락\n",
      "[8월할인메뉴] 핫 치즈 닭갈비 덮밥\n",
      "[8월할인메뉴] 오리지널 치즈 닭갈비 덮밥\n",
      "[8월할인메뉴] 돈까스도련님 고기고기\n",
      "[8월행사메뉴] 숯불직화구이 덮밥\n",
      "[8월할인메뉴] 진달래\n",
      "[8월할인메뉴] 통현미 닭강정(소)\n",
      "[8월할인메뉴] 스팸 김치볶음밥\n",
      "해바라기\n",
      "매화\n",
      "진달래\n",
      "개나리\n",
      "돈까스도련님고기고기\n",
      "탕수육도련님고기고기\n",
      "새치 고기고기\n",
      "돈치 고기고기\n",
      "카츠카츠 도시락\n",
      "숯불직화구이\n",
      "소불고기\n",
      "메가치킨제육\n",
      "칠리 찹쌀탕수육도련님\n",
      "동백\n",
      "치킨제육\n",
      "돈까스도련님\n",
      "제육볶음\n",
      "돈치스팸 도시락\n",
      "제육 김치찌개 정식\n",
      "제육 김치 부대찌개 정식\n",
      "돈치스팸 김치 부대찌개 정식\n",
      "빅치킨마요 김치 부대찌개 정식\n",
      "치킨마요 김치 부대찌개 정식\n",
      "빅치킨마요 김치찌개 정식\n",
      "치킨마요 김치찌개 정식\n",
      "새후마요\n",
      "메가스팸마요\n",
      "스팸마요\n",
      "메가치킨마요\n",
      "왕치킨마요\n",
      "빅치킨마요\n",
      "치킨마요\n",
      "참치마요\n",
      "돈치마요\n",
      "돈까스 카레\n",
      "스팸 김치볶음밥\n",
      "김치볶음밥\n",
      "스팸철판볶음밥\n",
      "소불고기 철판볶음밥\n",
      "나시고랭\n",
      "묵은지 김치찌개\n",
      "김치 부대찌개\n",
      "핫 치즈 닭갈비덮밥\n",
      "오리지널 치즈 닭갈비덮밥\n",
      "숯불직화구이 덮밥\n",
      "마파두부 덮밥\n",
      "왕카레돈까스덮밥\n",
      "새우돈까스 덮밥\n",
      "돈까스 덮밥\n",
      "아보카도 훈제 닭가슴살 명란 비빔밥\n",
      "아보카도 소불고기 명란 비빔밥\n",
      "소불고기 감초고추장 비빔밥\n",
      "시골제육 두부강된장 비빔밥\n",
      "참치야채 감초고추장\n",
      "튼튼도시락\n",
      "반찬 묵은지김치찌개\n",
      "반찬 카레\n",
      "반찬 순살 고등어 간장구이\n",
      "반찬 김치 부대찌개\n",
      "반찬 치킨\n",
      "반찬 고기고기\n",
      "반찬 돈까스 도련님\n",
      "반찬 제육볶음\n",
      "반찬 토네이도 소세지\n",
      "반찬 반달돈까스\n",
      "치즈버터 해시 포테이토 스틱\n",
      "허니버터 해시 포테이토 스틱\n",
      "해시 포테이토 스틱\n",
      "뉴 감자고로케\n",
      "미니 찹쌀핫도그\n",
      "미니 찹쌀탕수육\n",
      "케이준후라이\n",
      "통현미 닭강정(소)\n",
      "통현미 닭강정(중)\n",
      "후라이드 순살(중)\n",
      "후라이드 순살(소)_양념치킨소스\n",
      "후라이드 순살(소)_케이준소스\n",
      "오리지널 닭강정(중)\n",
      "오리지널 닭강정(소)\n",
      "반찬 무생채\n",
      "3종 미니반찬B\n",
      "3종 미니반찬A\n",
      "반찬 열무김치\n",
      "오징어젓갈\n",
      "한솥 두부강된장소스\n",
      "한솥 감초볶음고추장소스\n",
      "볶음김치\n",
      "김치\n",
      "무말랭이 무침\n",
      "한솥밥\n",
      "현미밥\n",
      "리얼 티라미수 찰떡\n",
      "리얼꿀 미니호떡\n"
     ]
    }
   ],
   "source": [
    "# 2. 상품이름 수집\n",
    "title = driver.find_elements(By.CSS_SELECTOR,'.h.fz_03')\n",
    "for i in title:\n",
    "    print(i.text)"
   ]
  },
  {
   "cell_type": "code",
   "execution_count": 12,
   "id": "df4148a5",
   "metadata": {
    "collapsed": true
   },
   "outputs": [
    {
     "name": "stdout",
     "output_type": "stream",
     "text": [
      "6,900\n",
      "2,900\n",
      "4,500\n",
      "4,900\n",
      "1,000\n",
      "800\n",
      "1,300\n",
      "800\n",
      "3,600\n",
      "3,000\n",
      "3,900\n",
      "4,900\n",
      "4,900\n",
      "5,500\n",
      "4,900\n",
      "6,700\n",
      "2,900\n",
      "3,900\n"
     ]
    }
   ],
   "source": [
    "# 3. 상품가격 수집\n",
    "#menuList_485 > div > div.item-text > div > strong\n",
    "price = driver.find_elements(By.CSS_SELECTOR,' div > div.item-text > div > strong')\n",
    "for i in price :\n",
    "     print(i.text)"
   ]
  },
  {
   "cell_type": "code",
   "execution_count": 21,
   "id": "b5c9312f",
   "metadata": {},
   "outputs": [
    {
     "data": {
      "text/plain": [
       "111"
      ]
     },
     "execution_count": 21,
     "metadata": {},
     "output_type": "execute_result"
    }
   ],
   "source": [
    "len(title)"
   ]
  },
  {
   "cell_type": "code",
   "execution_count": 14,
   "id": "58674009",
   "metadata": {},
   "outputs": [
    {
     "data": {
      "text/plain": [
       "18"
      ]
     },
     "execution_count": 14,
     "metadata": {},
     "output_type": "execute_result"
    }
   ],
   "source": [
    "len(price)"
   ]
  },
  {
   "cell_type": "code",
   "execution_count": 17,
   "id": "e75bb773",
   "metadata": {},
   "outputs": [],
   "source": [
    "# 더보기 버튼 클릭\n",
    "# 더보기를 클릭해야지만 최신의 데이터를 받아올 수 있다.\n",
    "btn = driver.find_element(By.CSS_SELECTOR, \".c_05\")\n",
    "btn.click()"
   ]
  },
  {
   "cell_type": "code",
   "execution_count": 23,
   "id": "ba944e86",
   "metadata": {
    "collapsed": true
   },
   "outputs": [
    {
     "ename": "ElementNotInteractableException",
     "evalue": "Message: element not interactable: element has zero size\n  (Session info: chrome=116.0.5845.111)\nStacktrace:\n\tGetHandleVerifier [0x00007FF7DBF252A2+57122]\n\t(No symbol) [0x00007FF7DBE9EA92]\n\t(No symbol) [0x00007FF7DBD6E3AB]\n\t(No symbol) [0x00007FF7DBDA909A]\n\t(No symbol) [0x00007FF7DBD9F25F]\n\t(No symbol) [0x00007FF7DBDC6FDA]\n\t(No symbol) [0x00007FF7DBD9EB76]\n\t(No symbol) [0x00007FF7DBDC71F0]\n\t(No symbol) [0x00007FF7DBDDEB82]\n\t(No symbol) [0x00007FF7DBDC6DB3]\n\t(No symbol) [0x00007FF7DBD9D2B1]\n\t(No symbol) [0x00007FF7DBD9E494]\n\tGetHandleVerifier [0x00007FF7DC1CEF82+2849794]\n\tGetHandleVerifier [0x00007FF7DC221D24+3189156]\n\tGetHandleVerifier [0x00007FF7DC21ACAF+3160367]\n\tGetHandleVerifier [0x00007FF7DBFB6D06+653702]\n\t(No symbol) [0x00007FF7DBEAA208]\n\t(No symbol) [0x00007FF7DBEA62C4]\n\t(No symbol) [0x00007FF7DBEA63F6]\n\t(No symbol) [0x00007FF7DBE967A3]\n\tBaseThreadInitThunk [0x00007FFBB1DB26AD+29]\n\tRtlUserThreadStart [0x00007FFBB218AA68+40]\n",
     "output_type": "error",
     "traceback": [
      "\u001b[1;31m---------------------------------------------------------------------------\u001b[0m",
      "\u001b[1;31mElementNotInteractableException\u001b[0m           Traceback (most recent call last)",
      "Cell \u001b[1;32mIn[23], line 4\u001b[0m\n\u001b[0;32m      2\u001b[0m \u001b[38;5;28;01mfor\u001b[39;00m i \u001b[38;5;129;01min\u001b[39;00m \u001b[38;5;28mrange\u001b[39m(\u001b[38;5;241m15\u001b[39m):\n\u001b[0;32m      3\u001b[0m     btn \u001b[38;5;241m=\u001b[39m driver\u001b[38;5;241m.\u001b[39mfind_element(By\u001b[38;5;241m.\u001b[39mCSS_SELECTOR, \u001b[38;5;124m\"\u001b[39m\u001b[38;5;124m.c_05\u001b[39m\u001b[38;5;124m\"\u001b[39m)\n\u001b[1;32m----> 4\u001b[0m     \u001b[43mbtn\u001b[49m\u001b[38;5;241;43m.\u001b[39;49m\u001b[43mclick\u001b[49m\u001b[43m(\u001b[49m\u001b[43m)\u001b[49m\n",
      "File \u001b[1;32m~\\anaconda3\\lib\\site-packages\\selenium\\webdriver\\remote\\webelement.py:94\u001b[0m, in \u001b[0;36mWebElement.click\u001b[1;34m(self)\u001b[0m\n\u001b[0;32m     92\u001b[0m \u001b[38;5;28;01mdef\u001b[39;00m \u001b[38;5;21mclick\u001b[39m(\u001b[38;5;28mself\u001b[39m) \u001b[38;5;241m-\u001b[39m\u001b[38;5;241m>\u001b[39m \u001b[38;5;28;01mNone\u001b[39;00m:\n\u001b[0;32m     93\u001b[0m     \u001b[38;5;124;03m\"\"\"Clicks the element.\"\"\"\u001b[39;00m\n\u001b[1;32m---> 94\u001b[0m     \u001b[38;5;28;43mself\u001b[39;49m\u001b[38;5;241;43m.\u001b[39;49m\u001b[43m_execute\u001b[49m\u001b[43m(\u001b[49m\u001b[43mCommand\u001b[49m\u001b[38;5;241;43m.\u001b[39;49m\u001b[43mCLICK_ELEMENT\u001b[49m\u001b[43m)\u001b[49m\n",
      "File \u001b[1;32m~\\anaconda3\\lib\\site-packages\\selenium\\webdriver\\remote\\webelement.py:395\u001b[0m, in \u001b[0;36mWebElement._execute\u001b[1;34m(self, command, params)\u001b[0m\n\u001b[0;32m    393\u001b[0m     params \u001b[38;5;241m=\u001b[39m {}\n\u001b[0;32m    394\u001b[0m params[\u001b[38;5;124m\"\u001b[39m\u001b[38;5;124mid\u001b[39m\u001b[38;5;124m\"\u001b[39m] \u001b[38;5;241m=\u001b[39m \u001b[38;5;28mself\u001b[39m\u001b[38;5;241m.\u001b[39m_id\n\u001b[1;32m--> 395\u001b[0m \u001b[38;5;28;01mreturn\u001b[39;00m \u001b[38;5;28;43mself\u001b[39;49m\u001b[38;5;241;43m.\u001b[39;49m\u001b[43m_parent\u001b[49m\u001b[38;5;241;43m.\u001b[39;49m\u001b[43mexecute\u001b[49m\u001b[43m(\u001b[49m\u001b[43mcommand\u001b[49m\u001b[43m,\u001b[49m\u001b[43m \u001b[49m\u001b[43mparams\u001b[49m\u001b[43m)\u001b[49m\n",
      "File \u001b[1;32m~\\anaconda3\\lib\\site-packages\\selenium\\webdriver\\remote\\webdriver.py:345\u001b[0m, in \u001b[0;36mWebDriver.execute\u001b[1;34m(self, driver_command, params)\u001b[0m\n\u001b[0;32m    343\u001b[0m response \u001b[38;5;241m=\u001b[39m \u001b[38;5;28mself\u001b[39m\u001b[38;5;241m.\u001b[39mcommand_executor\u001b[38;5;241m.\u001b[39mexecute(driver_command, params)\n\u001b[0;32m    344\u001b[0m \u001b[38;5;28;01mif\u001b[39;00m response:\n\u001b[1;32m--> 345\u001b[0m     \u001b[38;5;28;43mself\u001b[39;49m\u001b[38;5;241;43m.\u001b[39;49m\u001b[43merror_handler\u001b[49m\u001b[38;5;241;43m.\u001b[39;49m\u001b[43mcheck_response\u001b[49m\u001b[43m(\u001b[49m\u001b[43mresponse\u001b[49m\u001b[43m)\u001b[49m\n\u001b[0;32m    346\u001b[0m     response[\u001b[38;5;124m\"\u001b[39m\u001b[38;5;124mvalue\u001b[39m\u001b[38;5;124m\"\u001b[39m] \u001b[38;5;241m=\u001b[39m \u001b[38;5;28mself\u001b[39m\u001b[38;5;241m.\u001b[39m_unwrap_value(response\u001b[38;5;241m.\u001b[39mget(\u001b[38;5;124m\"\u001b[39m\u001b[38;5;124mvalue\u001b[39m\u001b[38;5;124m\"\u001b[39m, \u001b[38;5;28;01mNone\u001b[39;00m))\n\u001b[0;32m    347\u001b[0m     \u001b[38;5;28;01mreturn\u001b[39;00m response\n",
      "File \u001b[1;32m~\\anaconda3\\lib\\site-packages\\selenium\\webdriver\\remote\\errorhandler.py:229\u001b[0m, in \u001b[0;36mErrorHandler.check_response\u001b[1;34m(self, response)\u001b[0m\n\u001b[0;32m    227\u001b[0m         alert_text \u001b[38;5;241m=\u001b[39m value[\u001b[38;5;124m\"\u001b[39m\u001b[38;5;124malert\u001b[39m\u001b[38;5;124m\"\u001b[39m]\u001b[38;5;241m.\u001b[39mget(\u001b[38;5;124m\"\u001b[39m\u001b[38;5;124mtext\u001b[39m\u001b[38;5;124m\"\u001b[39m)\n\u001b[0;32m    228\u001b[0m     \u001b[38;5;28;01mraise\u001b[39;00m exception_class(message, screen, stacktrace, alert_text)  \u001b[38;5;66;03m# type: ignore[call-arg]  # mypy is not smart enough here\u001b[39;00m\n\u001b[1;32m--> 229\u001b[0m \u001b[38;5;28;01mraise\u001b[39;00m exception_class(message, screen, stacktrace)\n",
      "\u001b[1;31mElementNotInteractableException\u001b[0m: Message: element not interactable: element has zero size\n  (Session info: chrome=116.0.5845.111)\nStacktrace:\n\tGetHandleVerifier [0x00007FF7DBF252A2+57122]\n\t(No symbol) [0x00007FF7DBE9EA92]\n\t(No symbol) [0x00007FF7DBD6E3AB]\n\t(No symbol) [0x00007FF7DBDA909A]\n\t(No symbol) [0x00007FF7DBD9F25F]\n\t(No symbol) [0x00007FF7DBDC6FDA]\n\t(No symbol) [0x00007FF7DBD9EB76]\n\t(No symbol) [0x00007FF7DBDC71F0]\n\t(No symbol) [0x00007FF7DBDDEB82]\n\t(No symbol) [0x00007FF7DBDC6DB3]\n\t(No symbol) [0x00007FF7DBD9D2B1]\n\t(No symbol) [0x00007FF7DBD9E494]\n\tGetHandleVerifier [0x00007FF7DC1CEF82+2849794]\n\tGetHandleVerifier [0x00007FF7DC221D24+3189156]\n\tGetHandleVerifier [0x00007FF7DC21ACAF+3160367]\n\tGetHandleVerifier [0x00007FF7DBFB6D06+653702]\n\t(No symbol) [0x00007FF7DBEAA208]\n\t(No symbol) [0x00007FF7DBEA62C4]\n\t(No symbol) [0x00007FF7DBEA63F6]\n\t(No symbol) [0x00007FF7DBE967A3]\n\tBaseThreadInitThunk [0x00007FFBB1DB26AD+29]\n\tRtlUserThreadStart [0x00007FFBB218AA68+40]\n"
     ]
    }
   ],
   "source": [
    "# 더보기를 끝까지 반복\n",
    "for i in range(15):\n",
    "    btn = driver.find_element(By.CSS_SELECTOR, \".c_05\")\n",
    "    btn.click()"
   ]
  },
  {
   "cell_type": "markdown",
   "id": "ef3adc02",
   "metadata": {},
   "source": [
    "# 예외처리\n",
    "- 코드를 실행하다가 에러가 나는 경우 에러가 아닌 다른 코드를 실행\n",
    "- try : 에러가 나기 전까지 실행할 코드\n",
    "- except : 에러가 났을 때 실행할 코드"
   ]
  },
  {
   "cell_type": "code",
   "execution_count": 24,
   "id": "2931ab63",
   "metadata": {},
   "outputs": [],
   "source": [
    "# 셀레니움을 통해서 요청을 보낼 때는 반드시 사람답게 코드를 짜자!\n",
    "# 컴퓨터는 요청을 매우 빠르게 처리하기 때문에\n",
    "# 클라이언트가 서버에게 무리한 요청을 하면\n",
    "# 서버는 부하를 느낀다. -> 아이피 차단, 반응하기 전에 오류가 난다.\n",
    "# time.sleep(초) -> 해당하는 시간만큼 코드가 멈춘다.\n",
    "# 반드시 요청과 응답이 있는 경우에 사용하는 걸 권장\n",
    "import time "
   ]
  },
  {
   "cell_type": "code",
   "execution_count": 26,
   "id": "ed51dfa6",
   "metadata": {},
   "outputs": [
    {
     "name": "stdout",
     "output_type": "stream",
     "text": [
      "더보기가 없습니다.\n"
     ]
    }
   ],
   "source": [
    "try:\n",
    "    # 에러가 나기 전까지 실행할 코드\n",
    "    # 더보기를 끝까지 반복\n",
    "    for i in range(15):\n",
    "        btn = driver.find_element(By.CSS_SELECTOR, \".c_05\")\n",
    "        btn.click()\n",
    "        time.sleep(3) \n",
    "except:\n",
    "    # 에러가 났을 때 실행할 코드\n",
    "    print(\"더보기가 없습니다.\")"
   ]
  },
  {
   "cell_type": "code",
   "execution_count": 27,
   "id": "439ec441",
   "metadata": {},
   "outputs": [
    {
     "data": {
      "text/plain": [
       "111"
      ]
     },
     "execution_count": 27,
     "metadata": {},
     "output_type": "execute_result"
    }
   ],
   "source": [
    "# 상품이름 수집\n",
    "title = driver.find_elements(By.CSS_SELECTOR,'.h.fz_03')\n",
    "len(title)"
   ]
  },
  {
   "cell_type": "code",
   "execution_count": 28,
   "id": "2e2da1da",
   "metadata": {},
   "outputs": [
    {
     "data": {
      "text/plain": [
       "111"
      ]
     },
     "execution_count": 28,
     "metadata": {},
     "output_type": "execute_result"
    }
   ],
   "source": [
    "price = driver.find_elements(By.CSS_SELECTOR,' div > div.item-text > div > strong')\n",
    "len(price)"
   ]
  },
  {
   "cell_type": "code",
   "execution_count": 29,
   "id": "571dc784",
   "metadata": {},
   "outputs": [],
   "source": [
    "# 수집된 요소를 텍스트 데이터만 추출\n",
    "title_list = []\n",
    "price_list = []\n",
    "for i in range(len(title)):\n",
    "    title_list.append(title[i].text)\n",
    "    price_list.append(price[i].text)"
   ]
  },
  {
   "cell_type": "code",
   "execution_count": 30,
   "id": "e29baac9",
   "metadata": {
    "collapsed": true
   },
   "outputs": [
    {
     "data": {
      "text/plain": [
       "['오리 영양도시락',\n",
       " '통살 오징어튀김',\n",
       " '열무 감초고추장 비빔밥',\n",
       " '열무 두부강된장 비빔밥',\n",
       " '[8월할인메뉴] 토네이도 소세지',\n",
       " '[8월할인메뉴] 토핑-계란후라이',\n",
       " '[8월할인메뉴] 치킨2조각',\n",
       " '[8월할인메뉴] 토핑-스팸',\n",
       " '[8월할인메뉴] 빅치킨마요',\n",
       " '[8월할인메뉴] 치킨마요',\n",
       " '[8월할인메뉴] 카츠카츠 도시락',\n",
       " '[8월할인메뉴] 핫 치즈 닭갈비 덮밥',\n",
       " '[8월할인메뉴] 오리지널 치즈 닭갈비 덮밥',\n",
       " '[8월할인메뉴] 돈까스도련님 고기고기',\n",
       " '[8월행사메뉴] 숯불직화구이 덮밥',\n",
       " '[8월할인메뉴] 진달래',\n",
       " '[8월할인메뉴] 통현미 닭강정(소)',\n",
       " '[8월할인메뉴] 스팸 김치볶음밥',\n",
       " '해바라기',\n",
       " '매화',\n",
       " '진달래',\n",
       " '개나리',\n",
       " '돈까스도련님고기고기',\n",
       " '탕수육도련님고기고기',\n",
       " '새치 고기고기',\n",
       " '돈치 고기고기',\n",
       " '카츠카츠 도시락',\n",
       " '숯불직화구이',\n",
       " '소불고기',\n",
       " '메가치킨제육',\n",
       " '칠리 찹쌀탕수육도련님',\n",
       " '동백',\n",
       " '치킨제육',\n",
       " '돈까스도련님',\n",
       " '제육볶음',\n",
       " '돈치스팸 도시락',\n",
       " '제육 김치찌개 정식',\n",
       " '제육 김치 부대찌개 정식',\n",
       " '돈치스팸 김치 부대찌개 정식',\n",
       " '빅치킨마요 김치 부대찌개 정식',\n",
       " '치킨마요 김치 부대찌개 정식',\n",
       " '빅치킨마요 김치찌개 정식',\n",
       " '치킨마요 김치찌개 정식',\n",
       " '새후마요',\n",
       " '메가스팸마요',\n",
       " '스팸마요',\n",
       " '메가치킨마요',\n",
       " '왕치킨마요',\n",
       " '빅치킨마요',\n",
       " '치킨마요',\n",
       " '참치마요',\n",
       " '돈치마요',\n",
       " '돈까스 카레',\n",
       " '스팸 김치볶음밥',\n",
       " '김치볶음밥',\n",
       " '스팸철판볶음밥',\n",
       " '소불고기 철판볶음밥',\n",
       " '나시고랭',\n",
       " '묵은지 김치찌개',\n",
       " '김치 부대찌개',\n",
       " '핫 치즈 닭갈비덮밥',\n",
       " '오리지널 치즈 닭갈비덮밥',\n",
       " '숯불직화구이 덮밥',\n",
       " '마파두부 덮밥',\n",
       " '왕카레돈까스덮밥',\n",
       " '새우돈까스 덮밥',\n",
       " '돈까스 덮밥',\n",
       " '아보카도 훈제 닭가슴살 명란 비빔밥',\n",
       " '아보카도 소불고기 명란 비빔밥',\n",
       " '소불고기 감초고추장 비빔밥',\n",
       " '시골제육 두부강된장 비빔밥',\n",
       " '참치야채 감초고추장',\n",
       " '튼튼도시락',\n",
       " '반찬 묵은지김치찌개',\n",
       " '반찬 카레',\n",
       " '반찬 순살 고등어 간장구이',\n",
       " '반찬 김치 부대찌개',\n",
       " '반찬 치킨',\n",
       " '반찬 고기고기',\n",
       " '반찬 돈까스 도련님',\n",
       " '반찬 제육볶음',\n",
       " '반찬 토네이도 소세지',\n",
       " '반찬 반달돈까스',\n",
       " '치즈버터 해시 포테이토 스틱',\n",
       " '허니버터 해시 포테이토 스틱',\n",
       " '해시 포테이토 스틱',\n",
       " '뉴 감자고로케',\n",
       " '미니 찹쌀핫도그',\n",
       " '미니 찹쌀탕수육',\n",
       " '케이준후라이',\n",
       " '통현미 닭강정(소)',\n",
       " '통현미 닭강정(중)',\n",
       " '후라이드 순살(중)',\n",
       " '후라이드 순살(소)_양념치킨소스',\n",
       " '후라이드 순살(소)_케이준소스',\n",
       " '오리지널 닭강정(중)',\n",
       " '오리지널 닭강정(소)',\n",
       " '반찬 무생채',\n",
       " '3종 미니반찬B',\n",
       " '3종 미니반찬A',\n",
       " '반찬 열무김치',\n",
       " '오징어젓갈',\n",
       " '한솥 두부강된장소스',\n",
       " '한솥 감초볶음고추장소스',\n",
       " '볶음김치',\n",
       " '김치',\n",
       " '무말랭이 무침',\n",
       " '한솥밥',\n",
       " '현미밥',\n",
       " '리얼 티라미수 찰떡',\n",
       " '리얼꿀 미니호떡']"
      ]
     },
     "execution_count": 30,
     "metadata": {},
     "output_type": "execute_result"
    }
   ],
   "source": [
    "title_list"
   ]
  },
  {
   "cell_type": "code",
   "execution_count": 31,
   "id": "71efb146",
   "metadata": {
    "collapsed": true
   },
   "outputs": [
    {
     "data": {
      "text/plain": [
       "['6,900',\n",
       " '2,900',\n",
       " '4,500',\n",
       " '4,900',\n",
       " '1,000',\n",
       " '800',\n",
       " '1,300',\n",
       " '800',\n",
       " '3,600',\n",
       " '3,000',\n",
       " '3,900',\n",
       " '4,900',\n",
       " '4,900',\n",
       " '5,500',\n",
       " '4,900',\n",
       " '6,700',\n",
       " '2,900',\n",
       " '3,900',\n",
       " '10,000',\n",
       " '10,500',\n",
       " '7,800',\n",
       " '8,500',\n",
       " '6,500',\n",
       " '6,000',\n",
       " '7,000',\n",
       " '6,000',\n",
       " '4,800',\n",
       " '6,600',\n",
       " '5,500',\n",
       " '7,500',\n",
       " '4,400',\n",
       " '6,000',\n",
       " '4,900',\n",
       " '4,800',\n",
       " '4,500',\n",
       " '5,000',\n",
       " '8,600',\n",
       " '9,000',\n",
       " '9,000',\n",
       " '8,000',\n",
       " '7,400',\n",
       " '7,500',\n",
       " '6,900',\n",
       " '4,500',\n",
       " '5,800',\n",
       " '3,900',\n",
       " '6,000',\n",
       " '5,000',\n",
       " '4,300',\n",
       " '3,700',\n",
       " '3,500',\n",
       " '4,000',\n",
       " '4,700',\n",
       " '4,700',\n",
       " '3,900',\n",
       " '4,700',\n",
       " '4,900',\n",
       " '6,200',\n",
       " '4,900',\n",
       " '6,000',\n",
       " '5,900',\n",
       " '5,900',\n",
       " '6,000',\n",
       " '5,000',\n",
       " '6,000',\n",
       " '4,200',\n",
       " '4,100',\n",
       " '6,500',\n",
       " '6,500',\n",
       " '5,400',\n",
       " '5,200',\n",
       " '3,500',\n",
       " '5,000',\n",
       " '4,400',\n",
       " '2,900',\n",
       " '3,900',\n",
       " '4,900',\n",
       " '3,800',\n",
       " '3,600',\n",
       " '4,100',\n",
       " '3,500',\n",
       " '2,800',\n",
       " '2,900',\n",
       " '2,200',\n",
       " '2,200',\n",
       " '2,000',\n",
       " '2,700',\n",
       " '2,800',\n",
       " '2,200',\n",
       " '1,900',\n",
       " '3,500',\n",
       " '8,500',\n",
       " '7,500',\n",
       " '4,000',\n",
       " '4,000',\n",
       " '8,500',\n",
       " '3,500',\n",
       " '400',\n",
       " '1,300',\n",
       " '1,300',\n",
       " '500',\n",
       " '600',\n",
       " '1,800',\n",
       " '500',\n",
       " '500',\n",
       " '400',\n",
       " '500',\n",
       " '1,000',\n",
       " '1,700',\n",
       " '1,700',\n",
       " '2,200']"
      ]
     },
     "execution_count": 31,
     "metadata": {},
     "output_type": "execute_result"
    }
   ],
   "source": [
    "price_list"
   ]
  },
  {
   "cell_type": "markdown",
   "id": "59a14436",
   "metadata": {},
   "source": [
    "# 한 셀에 코드 합치기\n",
    "- 프로그램(실행파일) 제작을 할 때는 반드시 코드를 한 셀에 합쳐야한다."
   ]
  },
  {
   "cell_type": "code",
   "execution_count": 32,
   "id": "38163f26",
   "metadata": {},
   "outputs": [
    {
     "name": "stdout",
     "output_type": "stream",
     "text": [
      "더보기가 없습니다.\n"
     ]
    }
   ],
   "source": [
    "from selenium import webdriver as wb\n",
    "from selenium.webdriver.common.by import By\n",
    "from selenium.webdriver.common.keys import Keys\n",
    "import time \n",
    "import pandas as pd\n",
    "\n",
    "# 1. 브라우저를 실행하고 -> 한솥사이트로 이동\n",
    "driver = wb.Chrome()\n",
    "driver.get('https://www.hsd.co.kr/menu/menu_list')\n",
    "time.sleep(3)\n",
    "\n",
    "try:\n",
    "    # 에러가 나기 전까지 실행할 코드\n",
    "    # 더보기를 끝까지 반복\n",
    "    for i in range(15):\n",
    "        btn = driver.find_element(By.CSS_SELECTOR, \".c_05\")\n",
    "        btn.click()\n",
    "        time.sleep(3) \n",
    "except:\n",
    "    # 에러가 났을 때 실행할 코드\n",
    "    print(\"더보기가 없습니다.\")\n",
    "# -- 데이터 준비 단계 --\n",
    "\n",
    "# 상품이름,가격 수집\n",
    "title = driver.find_elements(By.CSS_SELECTOR,'.h.fz_03')\n",
    "price = driver.find_elements(By.CSS_SELECTOR,' div > div.item-text > div > strong')\n",
    "# -- 데이터 수집 단계 --\n",
    "\n",
    "# 수집된 요소를 텍스트 데이터만 추출\n",
    "title_list = []\n",
    "price_list = []\n",
    "for i in range(len(title)):\n",
    "    title_list.append(title[i].text)\n",
    "    price_list.append(price[i].text)\n",
    "# -- 데이터 가공 단계 --\n",
    "\n",
    "dic = {'상품명':title_list, '가격정보':price_list}\n",
    "hansot = pd.DataFrame(dic)\n",
    "hansot.to_csv(\"한솥.csv\",encoding='euc-kr')\n",
    "# -- 데이터 활용 단계 --"
   ]
  },
  {
   "cell_type": "markdown",
   "id": "51e7a356",
   "metadata": {},
   "source": [
    "# 크롤링하는 프로세스\n",
    "#### 데이터 준비, 데이터 수집, 데이터 가공, 데이터 활용\n",
    "- 데이터 준비 : 완벽한 데이터를 수집하기 위해서 화면 준비를 하는 단계( 더보기 버튼을 다 누르는 행위, 화면 스크롤을 최하단까지 이동)\n",
    "- 데이터 수집 : 준비된 데이터(html)에서 필요한 요소를 수집\n",
    "- 데이터 가공 : 수집된 데이터(요소)를 필요한 컨텐츠, 속성만 가공\n",
    "- 데이터 활용 : 가공된 데이터를 표, 파일로 제작"
   ]
  },
  {
   "cell_type": "markdown",
   "id": "c09d3ac1",
   "metadata": {},
   "source": [
    "# 크롤링 팁\n",
    "- 반드시 selenium을 활용할 때는 '셀 런 올'을 금지한다!\n",
    "- 항상 사람처럼 코딩을 작성하자!\n",
    "- 요청과 응답 사이에는 반드시 시간을 부여\n",
    "- time.sleep() vs implicitly_wait()\n",
    "- time : 무조건 내가 설정한 시간만큼 코드를 중단\n",
    "- implicitly_wait : 설정한 시간보다 완료된 시간이 짧으면 완료가 된 기점으로 코드가 진행 -> 네트워크 환경이 좋을 때는 장점"
   ]
  },
  {
   "cell_type": "code",
   "execution_count": null,
   "id": "5408f45a",
   "metadata": {},
   "outputs": [],
   "source": []
  }
 ],
 "metadata": {
  "kernelspec": {
   "display_name": "Python 3 (ipykernel)",
   "language": "python",
   "name": "python3"
  },
  "language_info": {
   "codemirror_mode": {
    "name": "ipython",
    "version": 3
   },
   "file_extension": ".py",
   "mimetype": "text/x-python",
   "name": "python",
   "nbconvert_exporter": "python",
   "pygments_lexer": "ipython3",
   "version": "3.10.9"
  }
 },
 "nbformat": 4,
 "nbformat_minor": 5
}
